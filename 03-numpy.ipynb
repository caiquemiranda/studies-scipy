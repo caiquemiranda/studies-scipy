{
 "cells": [
  {
   "attachments": {},
   "cell_type": "markdown",
   "metadata": {},
   "source": [
    "### Numpy array"
   ]
  },
  {
   "cell_type": "code",
   "execution_count": null,
   "metadata": {},
   "outputs": [],
   "source": [
    "import numpy as np\n",
    "\n",
    "a = np.array([0, 1, 2, 3])\n",
    "print(a)"
   ]
  },
  {
   "cell_type": "code",
   "execution_count": null,
   "metadata": {},
   "outputs": [],
   "source": [
    "L = range(1_000)"
   ]
  },
  {
   "cell_type": "code",
   "execution_count": null,
   "metadata": {},
   "outputs": [],
   "source": [
    "%timeit [i**2 for i in L]"
   ]
  },
  {
   "cell_type": "code",
   "execution_count": null,
   "metadata": {},
   "outputs": [],
   "source": [
    "a = np.arange(1_000)"
   ]
  },
  {
   "cell_type": "code",
   "execution_count": null,
   "metadata": {},
   "outputs": [],
   "source": [
    "%timeit a**2"
   ]
  },
  {
   "cell_type": "code",
   "execution_count": null,
   "metadata": {},
   "outputs": [],
   "source": [
    "np.array?"
   ]
  },
  {
   "cell_type": "code",
   "execution_count": null,
   "metadata": {},
   "outputs": [],
   "source": [
    "# looking \n",
    "np.lookfor('create array')"
   ]
  },
  {
   "cell_type": "code",
   "execution_count": null,
   "metadata": {},
   "outputs": [],
   "source": [
    "np.con*?"
   ]
  },
  {
   "cell_type": "code",
   "execution_count": null,
   "metadata": {},
   "outputs": [],
   "source": [
    "# import \n",
    "import numpy as np"
   ]
  },
  {
   "attachments": {},
   "cell_type": "markdown",
   "metadata": {},
   "source": [
    "#### Creating arrays"
   ]
  },
  {
   "cell_type": "code",
   "execution_count": null,
   "metadata": {},
   "outputs": [],
   "source": [
    "# 1-D:\n",
    "a = np.array([0, 1, 2, 3])\n",
    "\n",
    "print(a)\n",
    "print(a.ndim)\n",
    "print(a.shape)\n",
    "print(len(a))"
   ]
  },
  {
   "cell_type": "code",
   "execution_count": null,
   "metadata": {},
   "outputs": [],
   "source": [
    "# 2-D, 3-D, . . . :\n",
    "\n",
    "b = np.array([[0, 1, 2], [3, 4, 5]]) # 2 x 3 array\n",
    "\n",
    "print(b)\n",
    "print(b.ndim)\n",
    "print(b.shape)\n",
    "print(len(b))\n",
    "\n",
    "c = np.array([[[1], [2]], [[3], [4]]])\n",
    "\n",
    "print(c.shape)"
   ]
  },
  {
   "cell_type": "code",
   "execution_count": null,
   "metadata": {},
   "outputs": [],
   "source": [
    "# Evenly spaced:\n",
    "\n",
    "a = np.arange(10) # 0 .. n-1 (!)\n",
    "print(a)\n",
    "\n",
    "b = np.arange(1, 9, 2) # start, end (exclusive), step\n",
    "print(b)"
   ]
  },
  {
   "cell_type": "code",
   "execution_count": null,
   "metadata": {},
   "outputs": [],
   "source": [
    "# or by number of points:\n",
    "\n",
    "c = np.linspace(0, 1, 6) # start, end, num-points\n",
    "print(c)\n",
    "\n",
    "d = np.linspace(0, 1, 5, endpoint=False)\n",
    "print(d)"
   ]
  },
  {
   "cell_type": "code",
   "execution_count": null,
   "metadata": {},
   "outputs": [],
   "source": [
    "# Common arrays:\n",
    "a = np.ones((3, 3)) # reminder: (3, 3) is a tuple\n",
    "\n",
    "print(a)\n",
    "\n",
    "b = np.zeros((2, 2))\n",
    "print(b)\n",
    "\n",
    "c = np.eye(3)\n",
    "print(c)\n",
    "\n",
    "d = np.diag(np.array([1, 2, 3, 4]))\n",
    "print(d)"
   ]
  },
  {
   "cell_type": "code",
   "execution_count": null,
   "metadata": {},
   "outputs": [],
   "source": [
    "# np.random: random numbers (Mersenne Twister PRNG):\n",
    "\n",
    "a = np.random.rand(4) # uniform in [0, 1]\n",
    "print(a)\n",
    "\n",
    "b = np.random.randn(4) # Gaussian\n",
    "print(b)\n",
    "\n",
    "np.random.seed(1234) # Setting the random seed"
   ]
  },
  {
   "attachments": {},
   "cell_type": "markdown",
   "metadata": {},
   "source": [
    "#### Basic data types"
   ]
  },
  {
   "cell_type": "code",
   "execution_count": null,
   "metadata": {},
   "outputs": [],
   "source": [
    "\n",
    "a = np.array([1, 2, 3])\n",
    "print(a.dtype)\n",
    "\n",
    "b = np.array([1., 2., 3.])\n",
    "print(b.dtype)"
   ]
  },
  {
   "cell_type": "code",
   "execution_count": null,
   "metadata": {},
   "outputs": [],
   "source": [
    "\n",
    "c = np.array([1, 2, 3], dtype=float)\n",
    "print(c.dtype)"
   ]
  },
  {
   "cell_type": "code",
   "execution_count": null,
   "metadata": {},
   "outputs": [],
   "source": [
    "a = np.ones((3, 3))\n",
    "print(a.dtype)"
   ]
  },
  {
   "cell_type": "code",
   "execution_count": null,
   "metadata": {},
   "outputs": [],
   "source": [
    "# Complex\n",
    "\n",
    "d = np.array([1+2j, 3+4j, 5+6*1j])\n",
    "d.dtype"
   ]
  },
  {
   "cell_type": "code",
   "execution_count": null,
   "metadata": {},
   "outputs": [],
   "source": [
    "# Bool\n",
    "\n",
    "e = np.array([True, False, False, True])\n",
    "print(e.dtype)"
   ]
  },
  {
   "cell_type": "code",
   "execution_count": null,
   "metadata": {},
   "outputs": [],
   "source": [
    "# Strings\n",
    "\n",
    "f = np.array(['Bonjour', 'Hello', 'Hallo'])\n",
    "print(f.dtype)"
   ]
  },
  {
   "attachments": {},
   "cell_type": "markdown",
   "metadata": {},
   "source": [
    "#### Basic visualization"
   ]
  },
  {
   "cell_type": "code",
   "execution_count": null,
   "metadata": {},
   "outputs": [],
   "source": [
    "# Once IPython has started, enable interactive plots:\n",
    "\n",
    "%matplotlib"
   ]
  },
  {
   "cell_type": "code",
   "execution_count": null,
   "metadata": {},
   "outputs": [],
   "source": [
    "import matplotlib.pyplot as plt"
   ]
  },
  {
   "cell_type": "code",
   "execution_count": null,
   "metadata": {},
   "outputs": [],
   "source": [
    "\n",
    "plt.plot(x, y) # line plot\n",
    "plt.show() # <-- shows the plot (not needed with interactive plots)"
   ]
  },
  {
   "cell_type": "code",
   "execution_count": null,
   "metadata": {},
   "outputs": [],
   "source": [
    "plt.plot(x, y) # line plot"
   ]
  },
  {
   "cell_type": "code",
   "execution_count": null,
   "metadata": {},
   "outputs": [],
   "source": [
    "# 1D plotting:\n",
    "x = np.linspace(0, 3, 20)\n",
    "y = np.linspace(0, 9, 20)\n",
    "\n",
    "plt.plot(x, y) # line plot\n",
    "plt.plot(x, y, 'o') # dot plot"
   ]
  },
  {
   "cell_type": "code",
   "execution_count": null,
   "metadata": {},
   "outputs": [],
   "source": [
    "# 2D arrays (such as images):\n",
    "\n",
    "image = np.random.rand(30, 30)\n",
    "plt.imshow(image, cmap=plt.cm.hot)\n",
    "\n",
    "plt.colorbar()"
   ]
  },
  {
   "attachments": {},
   "cell_type": "markdown",
   "metadata": {},
   "source": [
    "#### Indexing and slicing"
   ]
  },
  {
   "cell_type": "code",
   "execution_count": null,
   "metadata": {},
   "outputs": [],
   "source": [
    "a = np.arange(10)\n",
    "\n",
    "print(a)\n",
    "a[0], a[2], a[-1]"
   ]
  },
  {
   "cell_type": "code",
   "execution_count": null,
   "metadata": {},
   "outputs": [],
   "source": [
    "a[::-1]"
   ]
  },
  {
   "cell_type": "code",
   "execution_count": null,
   "metadata": {},
   "outputs": [],
   "source": [
    "a = np.diag(np.arange(3))\n",
    "\n",
    "print(a)\n",
    "print(a[1, 1])\n",
    "\n",
    "a[2, 1] = 10 # third line, second column\n",
    "\n",
    "print(a)\n",
    "print(a[1])"
   ]
  },
  {
   "cell_type": "code",
   "execution_count": null,
   "metadata": {},
   "outputs": [],
   "source": [
    "a = np.arange(10)\n",
    "\n",
    "print(a)\n",
    "\n",
    "print(a[2:9:3])"
   ]
  },
  {
   "cell_type": "code",
   "execution_count": null,
   "metadata": {},
   "outputs": [],
   "source": [
    "print(a[:4])"
   ]
  },
  {
   "cell_type": "code",
   "execution_count": null,
   "metadata": {},
   "outputs": [],
   "source": [
    "\n",
    "print(a[1:3])\n",
    "\n",
    "print(a[::2])\n",
    "\n",
    "print(a[3:])"
   ]
  },
  {
   "cell_type": "code",
   "execution_count": null,
   "metadata": {},
   "outputs": [],
   "source": [
    "print(a[0, 3:5])\n",
    "\n",
    "print(a[4:, 4:])\n",
    "\n",
    "print(a[:, 2])\n",
    "\n",
    "print(a[2::2, ::2])"
   ]
  },
  {
   "cell_type": "code",
   "execution_count": null,
   "metadata": {},
   "outputs": [],
   "source": [
    "a = np.arange(10)\n",
    "a[5:] = 10\n",
    "print(a)\n",
    "\n",
    "b = np.arange(5)\n",
    "a[5:] = b[::-1]\n",
    "print(a)"
   ]
  },
  {
   "attachments": {},
   "cell_type": "markdown",
   "metadata": {},
   "source": [
    "#### Copies and views"
   ]
  },
  {
   "cell_type": "code",
   "execution_count": null,
   "metadata": {},
   "outputs": [],
   "source": [
    "a = np.arange(10)\n",
    "\n",
    "print(a)\n",
    "\n",
    "b = a[::2]\n",
    "print(b)\n",
    "\n",
    "np.may_share_memory(a, b)\n",
    "b[0] = 12\n",
    "\n",
    "print(b)\n",
    "print(a) # (!)\n",
    "\n",
    "a = np.arange(10)\n",
    "\n",
    "c = a[::2].copy() # force a copy\n",
    "c[0] = 12\n",
    "\n",
    "print(a)\n",
    "print(np)"
   ]
  },
  {
   "attachments": {},
   "cell_type": "markdown",
   "metadata": {},
   "source": [
    "#### Fancy indexing"
   ]
  },
  {
   "cell_type": "code",
   "execution_count": null,
   "metadata": {},
   "outputs": [],
   "source": [
    "# Using boolean masks\n",
    "\n",
    "np.random.seed(3)\n",
    "a = np.random.randint(0, 21, 15)\n",
    "\n",
    "print(a)\n",
    "print((a % 3 == 0))\n",
    "\n",
    "mask = (a % 3 == 0)\n",
    "extract_from_a = a[mask] # or, a[a%3==0]\n",
    "\n",
    "print(extract_from_a) # extract a sub-array with the mask"
   ]
  },
  {
   "cell_type": "code",
   "execution_count": null,
   "metadata": {},
   "outputs": [],
   "source": [
    "\n",
    "a[a % 3 == 0] = -1\n",
    "print(a)"
   ]
  },
  {
   "cell_type": "code",
   "execution_count": null,
   "metadata": {},
   "outputs": [],
   "source": [
    "# Indexing with an array of integers\n",
    "\n",
    "a = np.arange(0, 100, 10)\n",
    "print(a)"
   ]
  },
  {
   "cell_type": "code",
   "execution_count": null,
   "metadata": {},
   "outputs": [],
   "source": [
    "\n",
    "a[[2, 3, 2, 4, 2]] # note: [2, 3, 2, 4, 2] is a Python list"
   ]
  },
  {
   "cell_type": "code",
   "execution_count": null,
   "metadata": {},
   "outputs": [],
   "source": [
    "\n",
    "a[[9, 7]] = -100\n",
    "print(a)"
   ]
  },
  {
   "cell_type": "code",
   "execution_count": null,
   "metadata": {},
   "outputs": [],
   "source": [
    "a = np.arange(10)\n",
    "idx = np.array([[3, 4], [9, 7]])\n",
    "\n",
    "print(idx.shape)\n",
    "\n",
    "print(a[idx])"
   ]
  },
  {
   "attachments": {},
   "cell_type": "markdown",
   "metadata": {},
   "source": [
    "### Numerical operations on arrays"
   ]
  },
  {
   "attachments": {},
   "cell_type": "markdown",
   "metadata": {},
   "source": [
    "#### Elementwise operations"
   ]
  },
  {
   "cell_type": "code",
   "execution_count": null,
   "metadata": {},
   "outputs": [],
   "source": [
    "With scalars:\n",
    ">>> a = np.array([1, 2, 3, 4])\n",
    ">>> a + 1\n",
    "array([2, 3, 4, 5])\n",
    ">>> 2**a\n",
    "array([ 2, 4, 8, 16])"
   ]
  },
  {
   "cell_type": "code",
   "execution_count": null,
   "metadata": {},
   "outputs": [],
   "source": [
    "All arithmetic operates elementwise:\n",
    ">>> b = np.ones(4) + 1\n",
    ">>> a - b\n",
    "array([-1., 0., 1., 2.])\n",
    ">>> a * b\n",
    "array([2., 4., 6., 8.])\n",
    ">>> j = np.arange(5)\n",
    ">>> 2**(j + 1) - j\n",
    "array([ 2, 3, 6, 13, 28])"
   ]
  },
  {
   "cell_type": "code",
   "execution_count": null,
   "metadata": {},
   "outputs": [],
   "source": [
    "These operations are of course much faster than if you did them in pure python:\n",
    ">>> a = np.arange(10000)\n",
    ">>> %timeit a + 1\n",
    "10000 loops, best of 3: 24.3 us per loop\n",
    ">>> l = range(10000)\n",
    ">>> %timeit [i+1 for i in l]\n",
    "1000 loops, best of 3: 861 us per loop"
   ]
  },
  {
   "cell_type": "code",
   "execution_count": null,
   "metadata": {},
   "outputs": [],
   "source": [
    ">>> c.dot(c)\n",
    "array([[3., 3., 3.],\n",
    "[3., 3., 3.],\n",
    "[3., 3., 3.]])"
   ]
  },
  {
   "cell_type": "code",
   "execution_count": null,
   "metadata": {},
   "outputs": [],
   "source": [
    "Comparisons:\n",
    ">>> a = np.array([1, 2, 3, 4])\n",
    ">>> b = np.array([4, 2, 2, 4])\n",
    ">>> a == b\n",
    "array([False, True, False, True])\n",
    ">>> a > b\n",
    "array([False, False, True, False])"
   ]
  },
  {
   "cell_type": "code",
   "execution_count": null,
   "metadata": {},
   "outputs": [],
   "source": [
    "Tip: Array-wise comparisons:\n",
    ">>> a = np.array([1, 2, 3, 4])\n",
    ">>> b = np.array([4, 2, 2, 4])\n",
    ">>> c = np.array([1, 2, 3, 4])\n",
    ">>> np.array_equal(a, b)\n",
    "False\n",
    ">>> np.array_equal(a, c)\n",
    "True"
   ]
  },
  {
   "cell_type": "code",
   "execution_count": null,
   "metadata": {},
   "outputs": [],
   "source": [
    "Logical operations:\n",
    ">>> a = np.array([1, 1, 0, 0], dtype=bool)\n",
    ">>> b = np.array([1, 0, 1, 0], dtype=bool)\n",
    ">>> np.logical_or(a, b)\n",
    "array([ True, True, True, False])\n",
    ">>> np.logical_and(a, b)\n",
    "array([ True, False, False, False])\n",
    ">>> a = np.arange(5)\n",
    ">>> np.sin(a)\n",
    "array([ 0. , 0.84147098, 0.90929743, 0.14112001, -0.7568025 ])\n",
    ">>> np.log(a)\n",
    "array([ -inf, 0. , 0.69314718, 1.09861229, 1.38629436])\n",
    ">>> np.exp(a)\n",
    "array([ 1. , 2.71828183, 7.3890561 , 20.08553692, 54.59815003])"
   ]
  },
  {
   "cell_type": "code",
   "execution_count": null,
   "metadata": {},
   "outputs": [],
   "source": [
    "Shape mismatches\n",
    ">>> a = np.arange(4)\n",
    ">>> a + np.array([1, 2])\n",
    "Traceback (most recent call last):\n",
    "File \"<stdin>\", line 1, in <module>\n",
    "ValueError: operands could not be broadcast together with shapes (4) (2)"
   ]
  },
  {
   "cell_type": "code",
   "execution_count": null,
   "metadata": {},
   "outputs": [],
   "source": [
    "Transposition:\n",
    ">>> a = np.triu(np.ones((3, 3)), 1) # see help(np.triu)\n",
    ">>> a\n",
    "array([[0., 1., 1.],\n",
    "[0., 0., 1.],\n",
    "[0., 0., 0.]])\n",
    ">>> a.T\n",
    "array([[0., 0., 0.],\n",
    "[1., 0., 0.],\n",
    "[1., 1., 0.]])"
   ]
  },
  {
   "cell_type": "code",
   "execution_count": null,
   "metadata": {},
   "outputs": [],
   "source": [
    "The transpose returns a view of the original array:\n",
    ">>> a = np.arange(9).reshape(3, 3)\n",
    ">>> a.T[0, 2] = 999\n",
    ">>> a.T\n",
    "array([[ 0, 3, 999],\n",
    "[ 1, 4, 7],\n",
    "[ 2, 5, 8]])\n",
    ">>> a\n",
    "array([[ 0, 1, 2],\n",
    "[ 3, 4, 5],\n",
    "[999, 7, 8]])"
   ]
  },
  {
   "attachments": {},
   "cell_type": "markdown",
   "metadata": {},
   "source": [
    "#### Basc reductions"
   ]
  },
  {
   "cell_type": "code",
   "execution_count": null,
   "metadata": {},
   "outputs": [],
   "source": [
    "Computing sums\n",
    ">>> x = np.array([1, 2, 3, 4])\n",
    ">>> np.sum(x)\n",
    "10\n",
    ">>> x.sum()"
   ]
  },
  {
   "cell_type": "code",
   "execution_count": null,
   "metadata": {},
   "outputs": [],
   "source": [
    "Sum by rows and by columns:\n",
    ">>> x = np.array([[1, 1], [2, 2]])\n",
    ">>> x\n",
    "array([[1, 1],\n",
    "[2, 2]])\n",
    ">>> x.sum(axis=0) # columns (first dimension)\n",
    "array([3, 3])\n",
    ">>> x[:, 0].sum(), x[:, 1].sum()\n",
    "(3, 3)\n",
    ">>> x.sum(axis=1) # rows (second dimension)\n",
    "array([2, 4])\n",
    ">>> x[0, :].sum(), x[1, :].sum()\n",
    "(2, 4)"
   ]
  },
  {
   "cell_type": "code",
   "execution_count": null,
   "metadata": {},
   "outputs": [],
   "source": [
    "Tip: Same idea in higher dimensions:\n",
    ">>> x = np.random.rand(2, 2, 2)\n",
    ">>> x.sum(axis=2)[0, 1]\n",
    "1.14764...\n",
    ">>> x[0, 1, :].sum()"
   ]
  },
  {
   "cell_type": "code",
   "execution_count": null,
   "metadata": {},
   "outputs": [],
   "source": [
    "Extrema:\n",
    ">>> x = np.array([1, 3, 2])\n",
    ">>> x.min()\n",
    "1\n",
    ">>> x.max()\n",
    ">>> x.argmin() # index of minimum\n",
    "0\n",
    ">>> x.argmax() # index of maximum"
   ]
  },
  {
   "cell_type": "code",
   "execution_count": null,
   "metadata": {},
   "outputs": [],
   "source": [
    "Logical operations:\n",
    ">>> np.all([True, True, False])\n",
    "False\n",
    ">>> np.any([True, True, False])\n",
    "True"
   ]
  },
  {
   "cell_type": "code",
   "execution_count": null,
   "metadata": {},
   "outputs": [],
   "source": [
    ">>> a = np.zeros((100, 100))\n",
    ">>> np.any(a != 0)\n",
    "False\n",
    ">>> np.all(a == a)\n",
    "True\n",
    ">>> a = np.array([1, 2, 3, 2])\n",
    ">>> b = np.array([2, 2, 3, 2])\n",
    ">>> c = np.array([6, 4, 4, 5])\n",
    ">>> ((a <= b) & (b <= c)).all()\n",
    "True"
   ]
  },
  {
   "cell_type": "code",
   "execution_count": null,
   "metadata": {},
   "outputs": [],
   "source": [
    "Statistics:\n",
    ">>> x = np.array([1, 2, 3, 1])\n",
    ">>> y = np.array([[1, 2, 3], [5, 6, 1]])\n",
    ">>> x.mean()\n",
    "1.75\n",
    ">>> np.median(x)\n",
    "1.5\n",
    ">>> np.median(y, axis=-1) # last axis\n",
    "array([2., 5.])\n",
    ">>> x.std() # full population standard dev.\n",
    "0.82915619758884995"
   ]
  },
  {
   "attachments": {},
   "cell_type": "markdown",
   "metadata": {},
   "source": [
    "#### Broadcasting"
   ]
  },
  {
   "cell_type": "code",
   "execution_count": null,
   "metadata": {},
   "outputs": [],
   "source": []
  },
  {
   "cell_type": "code",
   "execution_count": null,
   "metadata": {},
   "outputs": [],
   "source": []
  },
  {
   "cell_type": "code",
   "execution_count": null,
   "metadata": {},
   "outputs": [],
   "source": []
  },
  {
   "cell_type": "code",
   "execution_count": null,
   "metadata": {},
   "outputs": [],
   "source": [
    "%reload_ext watermark\n",
    "%watermark -a \"Caique Miranda\" -gu \"caiquemiranda\" -iv"
   ]
  },
  {
   "attachments": {},
   "cell_type": "markdown",
   "metadata": {},
   "source": [
    "### End."
   ]
  }
 ],
 "metadata": {
  "kernelspec": {
   "display_name": "Python 3",
   "language": "python",
   "name": "python3"
  },
  "language_info": {
   "codemirror_mode": {
    "name": "ipython",
    "version": 3
   },
   "file_extension": ".py",
   "mimetype": "text/x-python",
   "name": "python",
   "nbconvert_exporter": "python",
   "pygments_lexer": "ipython3",
   "version": "3.10.5"
  },
  "orig_nbformat": 4,
  "vscode": {
   "interpreter": {
    "hash": "74af3d2f25f1e46ebd2903d59225d79e4675ec224d56c01fc30cd168c2010d53"
   }
  }
 },
 "nbformat": 4,
 "nbformat_minor": 2
}
