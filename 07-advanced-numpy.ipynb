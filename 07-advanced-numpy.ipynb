{
 "cells": [
  {
   "attachments": {},
   "cell_type": "markdown",
   "metadata": {},
   "source": [
    "### Advanced Numpy"
   ]
  },
  {
   "cell_type": "code",
   "execution_count": null,
   "metadata": {},
   "outputs": [],
   "source": [
    "import warnings\n",
    "\n",
    "warnings.filterwarnings('ignore')"
   ]
  },
  {
   "cell_type": "code",
   "execution_count": null,
   "metadata": {},
   "outputs": [],
   "source": [
    "import numpy as np"
   ]
  },
  {
   "attachments": {},
   "cell_type": "markdown",
   "metadata": {},
   "source": [
    "#### Block of memory"
   ]
  },
  {
   "cell_type": "code",
   "execution_count": null,
   "metadata": {},
   "outputs": [],
   "source": [
    ">>> x = np.array([1, 2, 3], dtype=np.int32)\n",
    ">>> x.data\n",
    "<... at ...>\n"
   ]
  },
  {
   "cell_type": "code",
   "execution_count": null,
   "metadata": {},
   "outputs": [],
   "source": [
    ">>> bytes(x.data)\n",
    "'\\x01\\x00\\x00\\x00\\"
   ]
  },
  {
   "cell_type": "code",
   "execution_count": null,
   "metadata": {},
   "outputs": [],
   "source": [
    ">>> x.__array_interface__['data'][0]"
   ]
  },
  {
   "cell_type": "code",
   "execution_count": null,
   "metadata": {},
   "outputs": [],
   "source": [
    ">>> x.__array_interface__"
   ]
  },
  {
   "cell_type": "code",
   "execution_count": null,
   "metadata": {},
   "outputs": [],
   "source": [
    ">>> x = np.array([1, 2, 3, 4])\n",
    ">>> y = x[:-1]\n",
    ">>> x[0] = 9\n",
    ">>> y\n",
    "array(["
   ]
  },
  {
   "cell_type": "code",
   "execution_count": null,
   "metadata": {},
   "outputs": [],
   "source": [
    ">>> y = np.frombuffer(x, dtype=np.int8)\n",
    ">>> y.data\n",
    "<... at ...>\n"
   ]
  },
  {
   "cell_type": "code",
   "execution_count": null,
   "metadata": {},
   "outputs": [],
   "source": [
    ">>> y.base is x\n",
    "True\n"
   ]
  },
  {
   "cell_type": "code",
   "execution_count": null,
   "metadata": {},
   "outputs": [],
   "source": [
    ">>> y.flags\n",
    "C_CONTIGUOUS : True\n",
    "F_CONTIGUOUS : True\n",
    "OWNDATA : False\n",
    "WRITEABLE : False\n",
    "ALIGNED : True\n",
    "WRITEBACKIFCOPY : False\n",
    "UPDATEIFCOPY : False"
   ]
  },
  {
   "attachments": {},
   "cell_type": "markdown",
   "metadata": {},
   "source": [
    "#### Data types"
   ]
  },
  {
   "cell_type": "code",
   "execution_count": null,
   "metadata": {},
   "outputs": [],
   "source": [
    ">>> np.dtype(int).type\n",
    "<type 'numpy.int64'>\n"
   ]
  },
  {
   "cell_type": "code",
   "execution_count": null,
   "metadata": {},
   "outputs": [],
   "source": [
    ">>> np.dtype(int).itemsize\n",
    "8\n"
   ]
  },
  {
   "cell_type": "code",
   "execution_count": null,
   "metadata": {},
   "outputs": [],
   "source": [
    ">>> np.dtype(int).byteorder"
   ]
  },
  {
   "cell_type": "code",
   "execution_count": null,
   "metadata": {},
   "outputs": [],
   "source": [
    ">>> wav_header_dtype = np.dtype([\n",
    "... (\"chunk_id\", (bytes, 4)), # flexible-sized scalar type, item size 4\n",
    "... (\"chunk_size\", \"<u4\"), # little-endian unsigned 32-bit integer\n",
    "... (\"format\", \"S4\"), # 4-byte string\n",
    "... (\"fmt_id\", \"S4\"),\n",
    "... (\"fmt_size\", \"<u4\"),\n",
    "... (\"audio_fmt\", \"<u2\"), #\n",
    "... (\"num_channels\", \"<u2\"), # .. more of the same ...\n",
    "... (\"sample_rate\", \"<u4\"), #\n",
    "... (\"byte_rate\", \"<u4\"),\n",
    "... (\"block_align\", \"<u2\"),\n",
    "... (\"bits_per_sample\", \"<u2\"),\n",
    "... (\"data_id\", (\"S1\", (2, 2))), # sub-array, just for fun!\n",
    "... (\"data_size\", \"u4\"),\n",
    "... #\n",
    "... # the sound data itself cannot be represented here:\n",
    "... #"
   ]
  },
  {
   "cell_type": "code",
   "execution_count": null,
   "metadata": {},
   "outputs": [],
   "source": [
    "wav_header_dtype = np.dtype(dict(\n",
    "... names=['format', 'sample_rate', 'data_id'],\n",
    "... offsets=[offset_1, offset_2, offset_3], # counted from start of structure in bytes\n",
    "... formats=list of dtypes for each of the fields,\n",
    "... ))"
   ]
  },
  {
   "cell_type": "code",
   "execution_count": null,
   "metadata": {},
   "outputs": [],
   "source": [
    ">>> f = open('data/test.wav', 'r')\n",
    ">>> wav_header = np.fromfile(f, dtype=wav_header_dtype, count=1)\n",
    ">>> f.close()\n",
    ">>> print(wav_header)\n"
   ]
  },
  {
   "cell_type": "code",
   "execution_count": null,
   "metadata": {},
   "outputs": [],
   "source": [
    "[ ('RIFF', 17402L, 'WAVE', 'fmt ', 16L, 1, 1, 16000L, 32000L, 2, 16, [['d', 'a'], ['t', 'a']],␣\n",
    "˓→17366L)]\n",
    ">>> wav_header['sample_rate']"
   ]
  },
  {
   "cell_type": "code",
   "execution_count": null,
   "metadata": {},
   "outputs": [],
   "source": [
    ">>> wav_header['data_id']\n",
    "array([[['d', 'a'],\n",
    "['t', 'a']]],"
   ]
  },
  {
   "cell_type": "code",
   "execution_count": null,
   "metadata": {},
   "outputs": [],
   "source": [
    ">>> wav_header.shape"
   ]
  },
  {
   "cell_type": "code",
   "execution_count": null,
   "metadata": {},
   "outputs": [],
   "source": [
    "(1,)\n",
    ">>> wav_header['data_id'].shape"
   ]
  },
  {
   "cell_type": "code",
   "execution_count": null,
   "metadata": {},
   "outputs": [],
   "source": [
    ">>> x = np.array([1, 2, 3, 4], dtype=np.float)\n",
    ">>> x\n",
    "array([1., 2., 3., 4.])\n"
   ]
  },
  {
   "cell_type": "code",
   "execution_count": null,
   "metadata": {},
   "outputs": [],
   "source": [
    ">>> y = x.astype(np.int8)\n",
    ">>> y\n",
    "array([1, 2, 3, 4], dtype=int8)\n"
   ]
  },
  {
   "cell_type": "code",
   "execution_count": null,
   "metadata": {},
   "outputs": [],
   "source": [
    ">>> y + 1\n",
    "array([2, 3, 4, 5], dtype=int8)\n"
   ]
  },
  {
   "cell_type": "code",
   "execution_count": null,
   "metadata": {},
   "outputs": [],
   "source": [
    ">>> y + 256\n",
    "array([257, 258, 259, 260], dtype=int16)\n"
   ]
  },
  {
   "cell_type": "code",
   "execution_count": null,
   "metadata": {},
   "outputs": [],
   "source": [
    ">>> y + 256.0\n",
    "array([257., 258., 259., 260.])\n",
    ">>> y + np.array([256], dtype=np.int32)\n",
    "array([257, 258, 259, 260], dtype=int32)"
   ]
  },
  {
   "cell_type": "code",
   "execution_count": null,
   "metadata": {},
   "outputs": [],
   "source": [
    ">>> y + 256.0\n",
    "array([257., 258., 259., 260.])\n"
   ]
  },
  {
   "cell_type": "code",
   "execution_count": null,
   "metadata": {},
   "outputs": [],
   "source": [
    ">>> y + np.array([256], dtype=np.int32)\n",
    "array([257, 258, 259, 260], dtype=int32)"
   ]
  },
  {
   "cell_type": "code",
   "execution_count": null,
   "metadata": {},
   "outputs": [],
   "source": [
    ">>> y[:] = y + 1.5\n",
    ">>> y\n",
    "array([2, 3, 4, 5], dtype=int8)"
   ]
  },
  {
   "cell_type": "code",
   "execution_count": null,
   "metadata": {},
   "outputs": [],
   "source": [
    ">>> x = np.array([1, 2, 3, 4], dtype=np.uint8)\n",
    ">>> x.dtype = \"<i2\"\n",
    ">>> x\n",
    "array([ 513, 1027], dtype=int16)\n"
   ]
  },
  {
   "cell_type": "code",
   "execution_count": null,
   "metadata": {},
   "outputs": [],
   "source": [
    ">>> 0x0201, 0x0403\n",
    "(513, 1027)"
   ]
  },
  {
   "cell_type": "code",
   "execution_count": null,
   "metadata": {},
   "outputs": [],
   "source": [
    ">>> y = x.view(\"<i4\")\n",
    ">>> y\n",
    "array([67305985], dtype=int32)\n"
   ]
  },
  {
   "cell_type": "code",
   "execution_count": null,
   "metadata": {},
   "outputs": [],
   "source": [
    ">>> 0x04030201\n",
    "67305985"
   ]
  },
  {
   "cell_type": "code",
   "execution_count": null,
   "metadata": {},
   "outputs": [],
   "source": [
    ">>> x[1] = 5\n",
    ">>> y\n",
    "array(["
   ]
  },
  {
   "cell_type": "code",
   "execution_count": null,
   "metadata": {},
   "outputs": [],
   "source": [
    ">>> y.base is x"
   ]
  },
  {
   "cell_type": "code",
   "execution_count": null,
   "metadata": {},
   "outputs": [],
   "source": [
    ">>> x = np.zeros((10, 10, 4), dtype=np.int8)\n",
    ">>> x[:, :, 0] = 1\n",
    ">>> x[:, :, 1] = 2\n",
    ">>> x[:, :, 2] = 3\n",
    ">>> x[:, :, 3] = 4"
   ]
  },
  {
   "cell_type": "code",
   "execution_count": null,
   "metadata": {},
   "outputs": [],
   "source": [
    ">>> y = ...\n",
    ">>> assert (y['r'] == 1).all()\n",
    ">>> assert (y['g'] == 2).all()\n",
    ">>> assert (y['b'] == 3).all()\n",
    ">>> assert (y['a'] == 4).all()"
   ]
  },
  {
   "cell_type": "code",
   "execution_count": null,
   "metadata": {},
   "outputs": [],
   "source": [
    ">>> y = x.view([('r', 'i1'),\n",
    "... ('g', 'i1'),\n",
    "... ('b', 'i1'),\n",
    "... ('a', 'i1')]\n",
    "... )[:, :, 0]"
   ]
  },
  {
   "cell_type": "code",
   "execution_count": null,
   "metadata": {},
   "outputs": [],
   "source": [
    ">>> y = np.array([[1, 3], [2, 4]], dtype=np.uint8).transpose()\n",
    ">>> x = y.copy()\n",
    ">>> x\n",
    "array([[1, 2],\n",
    "[3, 4]], dtype=uint8)\n"
   ]
  },
  {
   "cell_type": "code",
   "execution_count": null,
   "metadata": {},
   "outputs": [],
   "source": [
    ">>> y\n",
    "array([[1, 2],\n",
    "[3, 4]], dtype=uint8)\n"
   ]
  },
  {
   "cell_type": "code",
   "execution_count": null,
   "metadata": {},
   "outputs": [],
   "source": [
    ">>> x.view(np.int16)\n",
    "array([[ 513],\n",
    "[1027]], dtype=int16)\n"
   ]
  },
  {
   "cell_type": "code",
   "execution_count": null,
   "metadata": {},
   "outputs": [],
   "source": [
    ">>> 0x0201, 0x0403\n",
    "(513, 1027)\n"
   ]
  },
  {
   "cell_type": "code",
   "execution_count": null,
   "metadata": {},
   "outputs": [],
   "source": [
    ">>> y.view(np.int16)\n",
    "array([[ 769, 1026]], dtype=int16)"
   ]
  },
  {
   "cell_type": "code",
   "execution_count": null,
   "metadata": {},
   "outputs": [],
   "source": [
    ">>> 0x0301, 0x0402\n",
    "(769, 1026)"
   ]
  },
  {
   "attachments": {},
   "cell_type": "markdown",
   "metadata": {},
   "source": [
    "#### Indexing scheme: strides"
   ]
  },
  {
   "cell_type": "code",
   "execution_count": null,
   "metadata": {},
   "outputs": [],
   "source": [
    ">>> x = np.array([[1, 2, 3],\n",
    "... [4, 5, 6],\n",
    "... [7, 8, 9]], dtype=np.int8)\n"
   ]
  },
  {
   "cell_type": "code",
   "execution_count": null,
   "metadata": {},
   "outputs": [],
   "source": [
    ">>> x.tobytes('A')\n",
    "b'\\x01\\x02\\x03\\x04\\x05\\x06\\x07\\x08\\t'"
   ]
  },
  {
   "cell_type": "code",
   "execution_count": null,
   "metadata": {},
   "outputs": [],
   "source": [
    ">>> x.strides\n",
    "(3, 1)"
   ]
  },
  {
   "cell_type": "code",
   "execution_count": null,
   "metadata": {},
   "outputs": [],
   "source": [
    "\n",
    ">>> byte_offset = 3*1 + 1*2 # to find x[1, 2]\n",
    ">>> x.flat[byte_offset]"
   ]
  },
  {
   "cell_type": "code",
   "execution_count": null,
   "metadata": {},
   "outputs": [],
   "source": [
    "6\n",
    ">>> x[1, 2]"
   ]
  },
  {
   "cell_type": "code",
   "execution_count": null,
   "metadata": {},
   "outputs": [],
   "source": [
    ">>> x = np.array([[1, 2, 3],\n",
    "... [4, 5, 6]], dtype=np.int16, order='C')\n"
   ]
  },
  {
   "cell_type": "code",
   "execution_count": null,
   "metadata": {},
   "outputs": [],
   "source": [
    ">>> x.strides\n",
    "(6, 2)\n"
   ]
  },
  {
   "cell_type": "code",
   "execution_count": null,
   "metadata": {},
   "outputs": [],
   "source": [
    ">>> x.tobytes('A')\n",
    "b'\\x01\\x00\\x02\\x00\\"
   ]
  },
  {
   "cell_type": "code",
   "execution_count": null,
   "metadata": {},
   "outputs": [],
   "source": [
    ">>> y = np.array(x, order='F')\n",
    ">>> y.strides"
   ]
  },
  {
   "cell_type": "code",
   "execution_count": null,
   "metadata": {},
   "outputs": [],
   "source": [
    ">>> y.tobytes('A')"
   ]
  },
  {
   "cell_type": "code",
   "execution_count": null,
   "metadata": {},
   "outputs": [],
   "source": [
    ">>> y = np.array([[1, 3], [2, 4]], dtype=np.uint8).transpose()\n",
    ">>> x = y.copy()"
   ]
  },
  {
   "cell_type": "code",
   "execution_count": null,
   "metadata": {},
   "outputs": [],
   "source": [
    ">>> x.strides\n",
    "(2, 1)\n"
   ]
  },
  {
   "cell_type": "code",
   "execution_count": null,
   "metadata": {},
   "outputs": [],
   "source": [
    ">>> y.strides\n",
    "(1, 2)"
   ]
  },
  {
   "cell_type": "code",
   "execution_count": null,
   "metadata": {},
   "outputs": [],
   "source": [
    ">>> x.tobytes('A')\n",
    "b'\\x01\\x02\\x03\\x04'\n"
   ]
  },
  {
   "cell_type": "code",
   "execution_count": null,
   "metadata": {},
   "outputs": [],
   "source": [
    ">>> y.tobytes('A')\n",
    "b'\\x01\\x03\\x02\\x04'"
   ]
  },
  {
   "cell_type": "code",
   "execution_count": null,
   "metadata": {},
   "outputs": [],
   "source": [
    ">>> x = np.array([1, 2, 3, 4, 5, 6], dtype=np.int32)\n",
    ">>> y = x[::-1]\n",
    ">>> y\n",
    "array([6, 5, 4, 3, 2, 1], dtype=int32)\n"
   ]
  },
  {
   "cell_type": "code",
   "execution_count": null,
   "metadata": {},
   "outputs": [],
   "source": [
    ">>> y.strides\n",
    "(-4,)\n"
   ]
  },
  {
   "cell_type": "code",
   "execution_count": null,
   "metadata": {},
   "outputs": [],
   "source": [
    ">>> y = x[2:]\n",
    ">>> y.__array_interface__['data'][0] - x.__array_interface__['data'][0]\n",
    "8\n"
   ]
  },
  {
   "cell_type": "code",
   "execution_count": null,
   "metadata": {},
   "outputs": [],
   "source": [
    ">>> x = np.zeros((10, 10, 10), dtype=np.float)\n",
    ">>> x.strides\n",
    "(800, 80, 8)"
   ]
  },
  {
   "cell_type": "code",
   "execution_count": null,
   "metadata": {},
   "outputs": [],
   "source": [
    ">>> x[::2,::3,::4].strides"
   ]
  },
  {
   "cell_type": "code",
   "execution_count": null,
   "metadata": {},
   "outputs": [],
   "source": [
    ">>> x = np.zeros((10, 10, 10), dtype=np.float)\n",
    ">>> x.strides\n",
    "(800, 80, 8)\n"
   ]
  },
  {
   "cell_type": "code",
   "execution_count": null,
   "metadata": {},
   "outputs": [],
   "source": [
    ">>> x.T.strides\n",
    "(8, 80, 800)\n",
    "But: not all reshaping"
   ]
  },
  {
   "cell_type": "code",
   "execution_count": null,
   "metadata": {},
   "outputs": [],
   "source": [
    ">>> a = np.arange(6, dtype=np.int8).reshape(3, 2)\n",
    ">>> b = a.T\n",
    ">>> b.strides\n",
    "(1, 2)\n",
    "So far, so"
   ]
  },
  {
   "cell_type": "code",
   "execution_count": null,
   "metadata": {},
   "outputs": [],
   "source": [
    ">>> bytes(a.data)\n",
    "b'\\x00\\x01\\x02\\x03\\x04\\x05'\n"
   ]
  },
  {
   "cell_type": "code",
   "execution_count": null,
   "metadata": {},
   "outputs": [],
   "source": [
    ">>> b\n",
    "array([[0, 2, 4],\n",
    "[1, 3, 5]], dtype=int8)\n"
   ]
  },
  {
   "cell_type": "code",
   "execution_count": null,
   "metadata": {},
   "outputs": [],
   "source": [
    ">>> c = b.reshape(3*2)\n",
    ">>> c\n",
    "array([0, 2, 4, 1, 3, 5], dtype=int8)"
   ]
  },
  {
   "cell_type": "code",
   "execution_count": null,
   "metadata": {},
   "outputs": [],
   "source": [
    ">>> from numpy.lib.stride_tricks import as_strided\n",
    ">>> help(as_strided)\n",
    "as_strided(x, shape=None,"
   ]
  },
  {
   "cell_type": "code",
   "execution_count": null,
   "metadata": {},
   "outputs": [],
   "source": [
    ">>> x = np.array([1, 2, 3, 4], dtype=np.int16)\n",
    ">>> as_strided(x, strides=(2*2, ), shape=(2, ))\n",
    "array([1, 3], dtype=int16)\n",
    ">>> x[::2]\n",
    "array([1, 3], dtype=int16)"
   ]
  },
  {
   "cell_type": "code",
   "execution_count": null,
   "metadata": {},
   "outputs": [],
   "source": [
    "# Exercise\n",
    "\n",
    "array([1, 2, 3, 4], dtype=np.int8)\n",
    "-> array([[1, 2, 3, 4],\n",
    "[1, 2, 3, 4],\n",
    "[1, 2, 3, 4]], dtype=np.int8)"
   ]
  },
  {
   "cell_type": "code",
   "execution_count": null,
   "metadata": {},
   "outputs": [],
   "source": [
    ">>> x = np.array([1, 2, 3, 4], dtype=np.int8)\n",
    ">>> y = as_strided(x, strides=(0, 1), shape=(3, 4))\n",
    ">>> y\n",
    "array([[1, 2, 3, 4],\n",
    "[1, 2, 3, 4],\n",
    "[1, 2, 3, 4]], dtype=int8)\n",
    ">>> y.base.base is x\n",
    "True"
   ]
  },
  {
   "cell_type": "code",
   "execution_count": null,
   "metadata": {},
   "outputs": [],
   "source": [
    "# Broadcasting\n",
    ">>> x = np.array([1, 2, 3, 4], dtype=np.int16)\n",
    ">>> x2 = as_strided(x, strides=(0, 1*2), shape=(3, 4))\n",
    ">>> x2\n",
    "array([[1, 2, 3, 4],\n",
    "[1, 2, 3, 4],\n",
    "[1, 2, 3, 4]], dtype=int16)"
   ]
  },
  {
   "cell_type": "code",
   "execution_count": null,
   "metadata": {},
   "outputs": [],
   "source": [
    ">>> y = np.array([5, 6, 7], dtype=np.int16)\n",
    ">>> y2 = as_strided(y, strides=(1*2, 0), shape=(3, 4))\n",
    ">>> y2\n",
    "array([[5, 5, 5, 5],\n",
    "[6, 6, 6, 6],\n",
    "[7, 7, 7, 7]], dtype=int16)"
   ]
  },
  {
   "cell_type": "code",
   "execution_count": null,
   "metadata": {},
   "outputs": [],
   "source": [
    ">>> x2 * y2\n",
    "array([[ 5, 10, 15, 20],\n",
    "[ 6, 12, 18, 24],\n",
    "[ 7, 14, 21, 28]], dtype=int16)"
   ]
  },
  {
   "cell_type": "code",
   "execution_count": null,
   "metadata": {},
   "outputs": [],
   "source": [
    ">>> x = np.array([1, 2, 3, 4], dtype=np.int16)\n",
    ">>> y = np.array([5, 6, 7], dtype=np.int16)\n",
    ">>> x[np.newaxis,:] * y[:,np.newaxis]\n",
    "array([[ 5, 10, 15, 20],\n",
    "[ 6, 12, 18, 24],\n",
    "[ 7, 14, 21, 28]], dtype=int16)"
   ]
  },
  {
   "cell_type": "code",
   "execution_count": null,
   "metadata": {},
   "outputs": [],
   "source": [
    ">>> x = np.array([[1, 2, 3],\n",
    "... [4, 5, 6],\n",
    "... [7, 8, 9]], dtype=np.int32)\n",
    ">>> x_diag = as_strided(x, shape=(3,), strides=(???,))"
   ]
  },
  {
   "cell_type": "code",
   "execution_count": null,
   "metadata": {},
   "outputs": [],
   "source": [
    "# Solution\n",
    "\n"
   ]
  },
  {
   "cell_type": "code",
   "execution_count": null,
   "metadata": {},
   "outputs": [],
   "source": []
  },
  {
   "cell_type": "code",
   "execution_count": null,
   "metadata": {},
   "outputs": [],
   "source": []
  },
  {
   "cell_type": "code",
   "execution_count": null,
   "metadata": {},
   "outputs": [],
   "source": []
  },
  {
   "cell_type": "code",
   "execution_count": null,
   "metadata": {},
   "outputs": [],
   "source": []
  },
  {
   "cell_type": "code",
   "execution_count": null,
   "metadata": {},
   "outputs": [],
   "source": []
  },
  {
   "cell_type": "code",
   "execution_count": null,
   "metadata": {},
   "outputs": [],
   "source": []
  },
  {
   "cell_type": "code",
   "execution_count": null,
   "metadata": {},
   "outputs": [],
   "source": []
  },
  {
   "cell_type": "code",
   "execution_count": null,
   "metadata": {},
   "outputs": [],
   "source": []
  },
  {
   "cell_type": "code",
   "execution_count": null,
   "metadata": {},
   "outputs": [],
   "source": []
  },
  {
   "cell_type": "code",
   "execution_count": null,
   "metadata": {},
   "outputs": [],
   "source": []
  },
  {
   "cell_type": "code",
   "execution_count": null,
   "metadata": {},
   "outputs": [],
   "source": []
  },
  {
   "cell_type": "code",
   "execution_count": null,
   "metadata": {},
   "outputs": [],
   "source": []
  },
  {
   "cell_type": "code",
   "execution_count": null,
   "metadata": {},
   "outputs": [],
   "source": []
  },
  {
   "cell_type": "code",
   "execution_count": null,
   "metadata": {},
   "outputs": [],
   "source": []
  },
  {
   "cell_type": "code",
   "execution_count": null,
   "metadata": {},
   "outputs": [],
   "source": [
    "%reload_ext watermark\n",
    "%watermark -a \"Caique Miranda\" -gu \"caiquemiranda\" -iv"
   ]
  }
 ],
 "metadata": {
  "language_info": {
   "name": "python"
  },
  "orig_nbformat": 4
 },
 "nbformat": 4,
 "nbformat_minor": 2
}
