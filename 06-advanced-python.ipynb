{
 "cells": [
  {
   "attachments": {},
   "cell_type": "markdown",
   "metadata": {},
   "source": [
    "### Advanced Python Constructs"
   ]
  },
  {
   "cell_type": "code",
   "execution_count": 1,
   "metadata": {},
   "outputs": [],
   "source": [
    "import warnings\n",
    "warnings.filterwarnings('ignore')"
   ]
  },
  {
   "attachments": {},
   "cell_type": "markdown",
   "metadata": {},
   "source": [
    "### Iterators, generator expressions and generators"
   ]
  },
  {
   "attachments": {},
   "cell_type": "markdown",
   "metadata": {},
   "source": [
    "#### Iterators"
   ]
  },
  {
   "cell_type": "code",
   "execution_count": null,
   "metadata": {},
   "outputs": [],
   "source": [
    "nums = [1, 2, 3] # note that ... varies: these are different objects\n",
    "iter(nums)"
   ]
  },
  {
   "cell_type": "code",
   "execution_count": null,
   "metadata": {},
   "outputs": [],
   "source": [
    "nums.__iter__()\n"
   ]
  },
  {
   "cell_type": "code",
   "execution_count": null,
   "metadata": {},
   "outputs": [],
   "source": [
    "nums.__reversed__()"
   ]
  },
  {
   "cell_type": "code",
   "execution_count": null,
   "metadata": {},
   "outputs": [],
   "source": [
    "it = iter(nums)"
   ]
  },
  {
   "cell_type": "code",
   "execution_count": null,
   "metadata": {},
   "outputs": [],
   "source": [
    "next(it)"
   ]
  },
  {
   "cell_type": "code",
   "execution_count": null,
   "metadata": {},
   "outputs": [],
   "source": [
    "next(it)"
   ]
  },
  {
   "cell_type": "code",
   "execution_count": null,
   "metadata": {},
   "outputs": [],
   "source": [
    "next(it)"
   ]
  },
  {
   "cell_type": "code",
   "execution_count": null,
   "metadata": {},
   "outputs": [],
   "source": [
    "next(it)"
   ]
  },
  {
   "cell_type": "code",
   "execution_count": null,
   "metadata": {},
   "outputs": [],
   "source": [
    "f = open('data/etc/fstab')\n",
    "f is f.__iter__()"
   ]
  },
  {
   "attachments": {},
   "cell_type": "markdown",
   "metadata": {},
   "source": [
    "#### Generator expressions"
   ]
  },
  {
   "cell_type": "code",
   "execution_count": null,
   "metadata": {},
   "outputs": [],
   "source": [
    ">>> (i for i in nums)\n",
    "<generator object <genexpr> at 0x...>\n",
    ">>> [i for i in nums]\n",
    "[1, 2, 3]\n",
    ">>> list(i for i in nums)"
   ]
  },
  {
   "cell_type": "code",
   "execution_count": null,
   "metadata": {},
   "outputs": [],
   "source": [
    ">>> {i for i in range(3)}\n",
    "set([0, 1, 2])\n",
    ">>> {i:i**2 for i in range(3)}\n",
    "{0: 0, 1: 1, 2: 4}"
   ]
  },
  {
   "attachments": {},
   "cell_type": "markdown",
   "metadata": {},
   "source": [
    "#### Generators"
   ]
  },
  {
   "cell_type": "code",
   "execution_count": null,
   "metadata": {},
   "outputs": [],
   "source": [
    ">>> def f():\n",
    "... yield 1\n",
    "... yield 2\n",
    ">>> f()\n",
    "<generator object f at 0x...>\n",
    ">>> gen = f()\n",
    ">>> next(gen)\n",
    "1\n",
    ">>> next(gen)\n",
    "2\n",
    ">>> next(gen)\n",
    "Traceback (most"
   ]
  },
  {
   "cell_type": "code",
   "execution_count": null,
   "metadata": {},
   "outputs": [],
   "source": [
    ">>> def f():\n",
    "... print(\"-- start --\")\n",
    "... yield 3\n",
    "... print(\"-- middle --\")\n",
    "... yield 4\n",
    "... print(\"-- finished --\")\n",
    ">>> gen = f()\n",
    ">>> next(gen)\n",
    "-- start --\n",
    "3\n",
    ">>> next(gen)\n",
    "-- middle --\n",
    "4\n",
    ">>> next(gen)\n",
    "-- finished --"
   ]
  },
  {
   "attachments": {},
   "cell_type": "markdown",
   "metadata": {},
   "source": [
    "#### Bidirectional communication"
   ]
  },
  {
   "cell_type": "code",
   "execution_count": null,
   "metadata": {},
   "outputs": [],
   "source": [
    "raise type, value, traceback"
   ]
  },
  {
   "cell_type": "code",
   "execution_count": null,
   "metadata": {},
   "outputs": [],
   "source": [
    ">>> import itertools\n",
    ">>> def g():\n",
    "... print('--start--')\n",
    "... for i in itertools.count():\n",
    "... print('--yielding %i --' % i)\n",
    "... try:\n",
    "... ans = yield i\n",
    "... except GeneratorExit:\n",
    "... print('--closing--')\n",
    "... raise\n",
    "... except Exception as e:\n",
    "... print('--yield raised %r --' % e)\n",
    "... else:\n",
    "... print('--yield returned %s --' % ans)\n",
    ">>> it = g()\n",
    ">>> next(it)\n",
    "--start--\n",
    "--yielding 0--\n",
    "0\n",
    ">>> it.send(11)\n",
    "--yield returned 11--\n",
    "--yielding 1--\n",
    "1\n",
    ">>> it.throw(IndexError)\n",
    "--yield raised IndexError()--\n",
    "--yielding 2--\n",
    "2\n",
    ">>> it.close()\n",
    "--closing--"
   ]
  },
  {
   "attachments": {},
   "cell_type": "markdown",
   "metadata": {},
   "source": [
    "#### 8.1.5 Chaining generators"
   ]
  },
  {
   "cell_type": "code",
   "execution_count": null,
   "metadata": {},
   "outputs": [],
   "source": [
    "subgen = some_other_generator()\n",
    "for v in subgen:\n",
    "yield v"
   ]
  },
  {
   "cell_type": "code",
   "execution_count": null,
   "metadata": {},
   "outputs": [],
   "source": [
    "yield from some_other_generator()"
   ]
  },
  {
   "attachments": {},
   "cell_type": "markdown",
   "metadata": {},
   "source": [
    "### Decorators"
   ]
  },
  {
   "cell_type": "code",
   "execution_count": null,
   "metadata": {},
   "outputs": [],
   "source": [
    "@decorator # ·\n",
    "def function(): # ¶\n",
    "pass"
   ]
  },
  {
   "cell_type": "code",
   "execution_count": null,
   "metadata": {},
   "outputs": [],
   "source": [
    "def function(): # ¶\n",
    "pass\n",
    "function = decorator(function) # ·"
   ]
  },
  {
   "attachments": {},
   "cell_type": "markdown",
   "metadata": {},
   "source": [
    "#### Decorators implemented as classes and as functions"
   ]
  },
  {
   "cell_type": "code",
   "execution_count": null,
   "metadata": {},
   "outputs": [],
   "source": [
    ">>> def simple_decorator(function):\n",
    "... print(\"doing decoration\")\n",
    "... return function\n",
    ">>> @simple_decorator\n",
    "... def function():\n",
    "... print(\"inside function\")\n",
    "doing decoration\n",
    ">>> function()\n",
    "inside function\n",
    ">>> def decorator_with_arguments(arg):\n",
    "... print(\"defining the decorator\")\n",
    "... def _decorator(function):\n",
    "... # in this inner function, arg is available too\n",
    "... print(\"doing decoration, %r \" % arg)\n",
    "... return function\n",
    "... return _decorator\n",
    ">>> @decorator_with_arguments(\"abc\")\n",
    "... def function():\n",
    "... print(\"inside function\")\n",
    "defining the decorator\n",
    "doing decoration, 'abc'\n",
    ">>> function()\n",
    "inside function"
   ]
  },
  {
   "cell_type": "code",
   "execution_count": null,
   "metadata": {},
   "outputs": [],
   "source": [
    ">>> def replacing_decorator_with_args(arg):\n",
    "... print(\"defining the decorator\")\n",
    "... def _decorator(function):\n",
    "... # in this inner function, arg is available too\n",
    "... print(\"doing decoration, %r \" % arg)\n",
    "... def _wrapper(*args, **kwargs):\n",
    "... print(\"inside wrapper, %r %r \" % (args, kwargs))\n",
    "... return function(*args, **kwargs)\n",
    "... return _wrapper\n",
    "... return _decorator\n",
    ">>> @replacing_decorator_with_args(\"abc\")\n",
    "... def function(*args, **kwargs):\n",
    "... print(\"inside function, %r %r \" % (args, kwargs))\n",
    "... return 14\n",
    "defining the decorator\n",
    "doing decoration, 'abc'\n",
    ">>> function(11, 12)\n",
    "inside wrapper, (11, 12) {}\n",
    "inside"
   ]
  },
  {
   "cell_type": "code",
   "execution_count": null,
   "metadata": {},
   "outputs": [],
   "source": [
    ">>> class decorator_class(object):\n",
    "... def __init__(self, arg):\n",
    "... # this method is called in the decorator expression\n",
    "... print(\"in decorator init, %s \" % arg)\n",
    "... self.arg = arg\n",
    "... def __call__(self, function):\n",
    "... # this method is called to do the job\n",
    "... print(\"in decorator call, %s \" % self.arg)\n",
    "... return function\n",
    ">>> deco_instance = decorator_class('foo')\n",
    "in decorator init, foo\n",
    ">>> @deco_instance\n",
    "... def function(*args, **kwargs):\n",
    "... print(\"in function, %s %s \" % (args, kwargs))\n",
    "in decorator call, foo\n",
    ">>> function()\n",
    "in function, () {}"
   ]
  },
  {
   "cell_type": "code",
   "execution_count": null,
   "metadata": {},
   "outputs": [],
   "source": [
    ">>> class replacing_decorator_class(object):\n",
    "... def __init__(self, arg):\n",
    "... # this method is called in the decorator expression\n",
    "... print(\"in decorator init, %s \" % arg)\n",
    "... self.arg = arg\n",
    "... def __call__(self, function):\n",
    "... # this method is called to do the job\n",
    "... print(\"in decorator call, %s \" % self.arg)\n",
    "... self.function = function\n",
    "... return self._wrapper\n",
    "... def _wrapper(self, *args, **kwargs):\n",
    "... print(\"in the wrapper, %s %s \" % (args, kwargs))\n",
    "... return self.function(*args, **kwargs)\n",
    ">>> deco_instance = replacing_decorator_class('foo')\n",
    "in decorator init, foo\n",
    ">>> @deco_instance\n",
    "... def function(*args, **kwargs):\n",
    "... print(\"in function, %s %s \" % (args, kwargs))\n",
    "in decorator call, foo\n",
    ">>> function(11, 12)\n",
    "in the wrapper, (11, 12) {}"
   ]
  },
  {
   "cell_type": "code",
   "execution_count": null,
   "metadata": {},
   "outputs": [],
   "source": [
    ">>> import functools\n",
    ">>> def replacing_decorator_with_args(arg):\n",
    "... print(\"defining the decorator\")\n",
    "... def _decorator(function):\n",
    "... print(\"doing decoration, %r \" % arg)\n",
    "... def _wrapper(*args, **kwargs):\n",
    "... print(\"inside wrapper, %r %r \" % (args, kwargs))\n",
    "... return function(*args, **kwargs)\n",
    "... return functools.update_wrapper(_wrapper, function)\n",
    "... return _decorator\n",
    ">>> @replacing_decorator_with_args(\"abc\")\n",
    "... def function():\n",
    "... \"extensive documentation\"\n",
    "... print(\"inside function\")\n",
    "... return 14\n",
    "defining the decorator\n",
    "doing decoration, 'abc'\n",
    ">>> function\n",
    "<function function at 0x...>\n",
    ">>> print(function.__doc__)"
   ]
  },
  {
   "attachments": {},
   "cell_type": "markdown",
   "metadata": {},
   "source": [
    "#### Examples in the standard library"
   ]
  },
  {
   "cell_type": "code",
   "execution_count": null,
   "metadata": {},
   "outputs": [],
   "source": [
    "class Array(object):\n",
    "def __init__(self, data):\n",
    "self.data = data\n",
    "@classmethod\n",
    "def fromfile(cls, file):\n",
    "data = numpy.load(file)\n",
    "return cls(data)"
   ]
  },
  {
   "cell_type": "code",
   "execution_count": null,
   "metadata": {},
   "outputs": [],
   "source": [
    ">>> class A(object):\n",
    "... @property\n",
    "... def a(self):\n",
    "... \"an important attribute\"\n",
    "... return \"a value\"\n",
    ">>> A.a\n",
    "<property object at 0x...>\n",
    ">>> A().a\n",
    "'a value'"
   ]
  },
  {
   "cell_type": "code",
   "execution_count": null,
   "metadata": {},
   "outputs": [],
   "source": [
    "class Rectangle(object):\n",
    "def __init__(self, edge):\n",
    "self.edge = edge\n",
    "@property\n",
    "def area(self):\n",
    "\"\"\"Computed area.\n",
    "Setting this updates the edge length to the proper value.\n",
    "\"\"\"\n",
    "return self.edge**2\n",
    "@area.setter\n",
    "def area(self, area):\n",
    "self.edge = area ** 0.5"
   ]
  },
  {
   "cell_type": "code",
   "execution_count": null,
   "metadata": {},
   "outputs": [],
   "source": [
    ">>> class D(object):\n",
    "... @property\n",
    "... def a(self):\n",
    "... print(\"getting 1\")\n",
    "... return 1\n",
    "... @a.setter\n",
    "... def a(self, value):\n",
    "... print(\"setting %r \" % value)\n",
    "... @a.deleter\n",
    "... def a(self):\n",
    "... print(\"deleting\")\n",
    ">>> D.a\n",
    "<property object at 0x...>\n",
    ">>> D.a.fget\n",
    "<function ...>\n",
    ">>> D.a.fset\n",
    "<function ...>\n",
    ">>> D.a.fdel\n",
    "<function ...>\n",
    ">>> d = D() # ... varies, this is not the same `a` function\n",
    ">>> d.a\n",
    "getting 1\n",
    "1\n",
    ">>> d.a = 2\n",
    "setting 2\n",
    ">>> del d.a\n",
    "deleting\n",
    ">>> d.a\n",
    "getting 1"
   ]
  },
  {
   "attachments": {},
   "cell_type": "markdown",
   "metadata": {},
   "source": [
    "#### Deprecation of functions"
   ]
  },
  {
   "cell_type": "code",
   "execution_count": null,
   "metadata": {},
   "outputs": [],
   "source": [
    "class deprecated(object):\n",
    "\"\"\"Print a deprecation warning once on first use of the function.\n",
    ">>> @deprecated() # doctest: +SKIP\n",
    "... def f():\n",
    "... pass\n",
    ">>> f() # doctest: +SKIP\n",
    "f is deprecated\n",
    "\"\"\"\n",
    "def __call__(self, func):\n",
    "self.func = func\n",
    "self.count = 0\n",
    "return self._wrapper\n",
    "def _wrapper(self, *args, **kwargs):\n",
    "self.count += 1\n",
    "if self.count == 1:\n",
    "print(self.func.__name__, 'is deprecated')\n",
    "return self.func(*args, **kwargs)"
   ]
  },
  {
   "cell_type": "code",
   "execution_count": null,
   "metadata": {},
   "outputs": [],
   "source": [
    "def deprecated(func):\n",
    "\"\"\"Print a deprecation warning once on first use of the function.\n",
    ">>> @deprecated # doctest: +SKIP\n",
    "... def f():\n",
    "... pass\n",
    ">>> f() # doctest: +SKIP\n",
    "f is deprecated\n",
    "\"\"\"\n",
    "count = [0]\n",
    "def wrapper(*args, **kwargs):\n",
    "count[0] += 1\n",
    "if count[0] == 1:\n",
    "print(func.__name__, 'is deprecated')\n",
    "return"
   ]
  },
  {
   "cell_type": "code",
   "execution_count": null,
   "metadata": {},
   "outputs": [],
   "source": [
    "def find_answers():\n",
    "answers = []\n",
    "while True:\n",
    "ans = look_for_next_answer()\n",
    "if ans is None:\n",
    "break\n",
    "answers.append(ans)\n",
    "return answers"
   ]
  },
  {
   "cell_type": "code",
   "execution_count": null,
   "metadata": {},
   "outputs": [],
   "source": [
    "def vectorized(generator_func):\n",
    "def wrapper(*args, **kwargs):\n",
    "return list(generator_func(*args, **kwargs))\n",
    "return functools.update_wrapper(wrapper, generator_func)"
   ]
  },
  {
   "cell_type": "code",
   "execution_count": null,
   "metadata": {},
   "outputs": [],
   "source": [
    "@vectorized\n",
    "def find_answers():\n",
    "while True:\n",
    "ans = look_for_next_answer()\n",
    "if ans is None:\n",
    "break\n",
    "yield ans"
   ]
  },
  {
   "cell_type": "code",
   "execution_count": null,
   "metadata": {},
   "outputs": [],
   "source": [
    "class WordProcessor(object):\n",
    "PLUGINS = []\n",
    "def process(self, text):\n",
    "for plugin in self.PLUGINS:\n",
    "text = plugin().cleanup(text)\n",
    "return text\n",
    "@classmethod\n",
    "def plugin(cls, plugin):\n",
    "cls.PLUGINS.append(plugin)\n",
    "@WordProcessor.plugin\n",
    "class CleanMdashesExtension(object):\n",
    "def cleanup(self, text):\n",
    "return text.replace('&mdash;', u'\\N{em dash}')"
   ]
  },
  {
   "attachments": {},
   "cell_type": "markdown",
   "metadata": {},
   "source": [
    "### ext managers"
   ]
  },
  {
   "cell_type": "code",
   "execution_count": null,
   "metadata": {},
   "outputs": [],
   "source": [
    "with manager as var:\n",
    "do_something(var)"
   ]
  },
  {
   "cell_type": "code",
   "execution_count": null,
   "metadata": {},
   "outputs": [],
   "source": [
    "var = manager.__enter__()\n",
    "try:\n",
    "do_something(var)\n",
    "finally:\n",
    "manager.__exit__()"
   ]
  },
  {
   "cell_type": "code",
   "execution_count": null,
   "metadata": {},
   "outputs": [],
   "source": [
    ">>> class closing(object):\n",
    "... def __init__(self, obj):\n",
    "... self.obj = obj\n",
    "... def __enter__(self):\n",
    "... return self.obj\n",
    "... def __exit__(self, *args):\n",
    "... self.obj.close()\n",
    ">>> with closing(open('/tmp/file', 'w')) as f:\n",
    "... f.write('the contents\\n')"
   ]
  },
  {
   "cell_type": "code",
   "execution_count": null,
   "metadata": {},
   "outputs": [],
   "source": [
    ">>> with open('/tmp/file', 'a') as f:\n",
    "... f.write('more contents\\n')"
   ]
  },
  {
   "attachments": {},
   "cell_type": "markdown",
   "metadata": {},
   "source": [
    "#### Catching exceptions"
   ]
  },
  {
   "cell_type": "code",
   "execution_count": null,
   "metadata": {},
   "outputs": [],
   "source": [
    "class assert_raises(object):\n",
    "# based on pytest and unittest.TestCase\n",
    "def __init__(self, type):\n",
    "self.type = type\n",
    "def __enter__(self):\n",
    "pass\n",
    "def __exit__(self, type, value, traceback):\n",
    "if type is None:\n",
    "raise AssertionError('exception expected')\n",
    "if issubclass(type, self.type):\n",
    "return True # swallow the expected exception\n",
    "raise AssertionError('wrong exception type')\n",
    "with assert_raises(KeyError):\n",
    "{}['foo']"
   ]
  },
  {
   "attachments": {},
   "cell_type": "markdown",
   "metadata": {},
   "source": [
    "#### Using generators to define context managers"
   ]
  },
  {
   "cell_type": "code",
   "execution_count": null,
   "metadata": {},
   "outputs": [],
   "source": [
    "@contextlib.contextmanager\n",
    "def some_generator(<arguments>):\n",
    "<setup>\n",
    "try:\n",
    "yield <value>\n",
    "finally:\n",
    "<cleanup>"
   ]
  },
  {
   "cell_type": "code",
   "execution_count": null,
   "metadata": {},
   "outputs": [],
   "source": [
    "@contextlib.contextmanager\n",
    "def closing(obj):\n",
    "try:\n",
    "yield obj\n",
    "finally:\n",
    "obj.close()"
   ]
  },
  {
   "cell_type": "code",
   "execution_count": null,
   "metadata": {},
   "outputs": [],
   "source": [
    "@contextlib.contextmanager\n",
    "def assert_raises(type):\n",
    "try:\n",
    "yield\n",
    "except type:\n",
    "return\n",
    "except Exception as value:\n",
    "raise AssertionError('wrong exception type')\n",
    "else:\n",
    "raise AssertionError('exception expected')"
   ]
  },
  {
   "cell_type": "code",
   "execution_count": 2,
   "metadata": {},
   "outputs": [
    {
     "name": "stdout",
     "output_type": "stream",
     "text": [
      "Author: Caique Miranda\n",
      "\n",
      "Github username: caiquemiranda\n",
      "\n",
      "sys: 3.10.5 (tags/v3.10.5:f377153, Jun  6 2022, 16:14:13) [MSC v.1929 64 bit (AMD64)]\n",
      "\n"
     ]
    }
   ],
   "source": [
    "%reload_ext watermark\n",
    "%watermark -a \"Caique Miranda\" -gu \"caiquemiranda\" -iv"
   ]
  },
  {
   "attachments": {},
   "cell_type": "markdown",
   "metadata": {},
   "source": [
    "\n",
    "### End."
   ]
  }
 ],
 "metadata": {
  "kernelspec": {
   "display_name": "Python 3",
   "language": "python",
   "name": "python3"
  },
  "language_info": {
   "codemirror_mode": {
    "name": "ipython",
    "version": 3
   },
   "file_extension": ".py",
   "mimetype": "text/x-python",
   "name": "python",
   "nbconvert_exporter": "python",
   "pygments_lexer": "ipython3",
   "version": "3.10.5 (tags/v3.10.5:f377153, Jun  6 2022, 16:14:13) [MSC v.1929 64 bit (AMD64)]"
  },
  "orig_nbformat": 4,
  "vscode": {
   "interpreter": {
    "hash": "74af3d2f25f1e46ebd2903d59225d79e4675ec224d56c01fc30cd168c2010d53"
   }
  }
 },
 "nbformat": 4,
 "nbformat_minor": 2
}
